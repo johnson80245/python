{
 "cells": [
  {
   "cell_type": "code",
   "execution_count": 2,
   "id": "d1f937e2",
   "metadata": {},
   "outputs": [],
   "source": [
    "import numpy as np\n",
    "import pandas as pd \n",
    "import matplotlib.pyplot as plt\n",
    "import seaborn as sns\n",
    "\n",
    "seg_df = pd.read_csv('http://bit.ly/PMR-ch5')\n",
    "\n"
   ]
  },
  {
   "cell_type": "code",
   "execution_count": null,
   "id": "f8371592",
   "metadata": {},
   "outputs": [
    {
     "name": "stdout",
     "output_type": "stream",
     "text": [
      "[25 25 25 10]\n",
      "Power_divergenceResult(statistic=np.float64(7.9411764705882355), pvalue=np.float64(0.04724318343092867))\n",
      "Expected values: [21.25 21.25 21.25 21.25]\n",
      "[5. 5. 5. 2.]\n",
      "Power_divergenceResult(statistic=np.float64(1.5882352941176472), pvalue=np.float64(0.6620603202525777))\n",
      "Expected values: [4.25 4.25 4.25 4.25]\n",
      "[2150 2150 2150 2000]\n",
      "Power_divergenceResult(statistic=np.float64(7.988165680473372), pvalue=np.float64(0.04625691960442831))\n",
      "Expected values: [2112.5 2112.5 2112.5 2112.5]\n",
      "[ 70 100  80  50]\n",
      "chisq_stat: 2.6737316360934784\n",
      "pavule: 0.10201657409843726\n",
      "dof: 1\n",
      "expected_values: [[147.51666667 117.48333333]\n",
      " [ 19.48333333  15.51666667]]\n"
     ]
    }
   ],
   "source": [
    "#Testing Group Frequencies: scipy.stats.chisquare()\n",
    "\n",
    "#Create test data for observations to look at frequency and chisquare\n",
    "tmp = np.repeat(range(4),[25,25,25,20])\n",
    "tmp\n",
    "\n",
    "#Use nunique to get count of each value\n",
    "tmp_values, tmp_counts = np.unique(tmp,return_counts = True)\n",
    "tmp_counts\n",
    "\n",
    "#Import scipy and stats\n",
    "from scipy import stats\n",
    "stats.chisquare(tmp_counts)\n",
    "#Shows 85% chance of seeing a dataset with differences similar to ours\n",
    "\n",
    "#changing observations to see a different number\n",
    "tmp_values, tmp_counts = np.unique(np.repeat(range(4),[25,25,25,10]),\n",
    "                                   return_counts = True)\n",
    "print(tmp_counts)\n",
    "print(stats.chisquare(tmp_counts))\n",
    "print('Expected values: {}'.format(np.ones(4)*tmp_counts.sum()/4))\n",
    "\n",
    "#Same data but 1/5 to see difference\n",
    "tmp_counts_small = tmp_counts / 5\n",
    "print(tmp_counts_small)\n",
    "print(stats.chisquare(tmp_counts_small))\n",
    "print('Expected values: {}'.format(np.ones(4)*tmp_counts_small.sum()/4))\n",
    "\n",
    "#Looking at high differences\n",
    "tmp_counts_large = tmp_counts * 10 + 1900\n",
    "print(tmp_counts_large)\n",
    "print(stats.chisquare(tmp_counts_large))\n",
    "print('Expected values: {}'.format(np.ones(4)*tmp_counts_large.sum()/4))\n",
    "\n",
    "\n",
    "#Looking at our segment data and chisquare - are they sig different? - Yes\n",
    "segment_values, segment_counts = np.unique(seg_df.Segment,\n",
    "                                           return_counts = True)\n",
    "print(segment_counts)\n",
    "stats.chisquare(segment_counts)\n",
    "\n",
    "#Using the value_counts() to look at segment counts\n",
    "seg_df.Segment.value_counts()\n",
    "\n",
    "#value_counts can be passed directly to chisquare\n",
    "stats.chisquare(seg_df.Segment.value_counts())\n",
    "\n",
    "#Using crosstab() and test with chisquare_contigency()\n",
    "pd.crosstab(seg_df.subscribe, columns = seg_df.own_home)\n",
    "stats.chi2_contingency(pd.crosstab(seg_df.subscribe\n",
    "                                   , columns = seg_df.own_home))\n",
    "#Making more readable\n",
    "sub_by_home = pd.crosstab(seg_df.subscribe, columns = seg_df.own_home)\n",
    "\n",
    "print('chisq_stat: {0}\\npavule: {1}\\ndof: {2}\\nexpected_values: {3}'\n",
    "      .format(*stats.chi2_contingency(sub_by_home,\n",
    "                                      correction = False)))\n",
    "\n"
   ]
  },
  {
   "cell_type": "code",
   "execution_count": 18,
   "id": "ae2ca66a",
   "metadata": {},
   "outputs": [
    {
     "data": {
      "text/plain": [
       "(0.0, 0.18980956054248888)"
      ]
     },
     "execution_count": 18,
     "metadata": {},
     "output_type": "execute_result"
    }
   ],
   "source": [
    "#Testing Observed Proportions: binom_test()\n",
    "\n",
    "from statsmodels.stats import proportion as sms_proportion\n",
    "\n",
    "#Using statsmodels.proportion.binom_test() to get pvalue\n",
    "sms_proportion.binom_test(count = 12, nobs = 20, prop = 0.5)\n",
    "\n",
    "#Adding in a confidence level of 95%\n",
    "sms_proportion.proportion_confint(count = 12, nobs = 20, alpha = 0.05)\n",
    "#Shows the range which includes 50%, does not show more of one or the other\n",
    "\n",
    "#Look at larger sample sizes binom_test()\n",
    "sms_proportion.binom_test(count = 120, nobs = 200, prop = 0.5)\n",
    "\n",
    "#Look at larger sample size CI 95%\n",
    "sms_proportion.proportion_confint(count = 120, nobs = 200, alpha = 0.05)\n",
    "\n",
    "#Using stats.binom and density estimate and sum point probs\n",
    "stats.binom.pmf([8, 9, 10, 11, 12], p = 0.5, n = 20).sum()\n",
    "stats.binom.pmf(range(8,13), p=0.5, n = 20).sum()\n",
    "\n",
    "#Using proportion_confit- agresti_coull\n",
    "sms_proportion.proportion_confint(0,20, method = 'agresti_coull')"
   ]
  },
  {
   "cell_type": "code",
   "execution_count": null,
   "id": "50c70d78",
   "metadata": {},
   "outputs": [],
   "source": [
    "\n"
   ]
  },
  {
   "cell_type": "code",
   "execution_count": null,
   "id": "008b04f3",
   "metadata": {},
   "outputs": [],
   "source": []
  },
  {
   "cell_type": "code",
   "execution_count": null,
   "id": "74b180fb",
   "metadata": {},
   "outputs": [],
   "source": []
  },
  {
   "cell_type": "code",
   "execution_count": null,
   "id": "4914ae40",
   "metadata": {},
   "outputs": [],
   "source": []
  },
  {
   "cell_type": "code",
   "execution_count": null,
   "id": "6908f9c9",
   "metadata": {},
   "outputs": [],
   "source": []
  },
  {
   "cell_type": "code",
   "execution_count": null,
   "id": "a30cd1ba",
   "metadata": {},
   "outputs": [],
   "source": []
  },
  {
   "cell_type": "code",
   "execution_count": null,
   "id": "45ace8c6",
   "metadata": {},
   "outputs": [],
   "source": []
  },
  {
   "cell_type": "code",
   "execution_count": null,
   "id": "f46ebe67",
   "metadata": {},
   "outputs": [],
   "source": []
  },
  {
   "cell_type": "code",
   "execution_count": null,
   "id": "ce0fbd52",
   "metadata": {},
   "outputs": [],
   "source": []
  },
  {
   "cell_type": "code",
   "execution_count": null,
   "id": "ffaf7c31",
   "metadata": {},
   "outputs": [],
   "source": []
  },
  {
   "cell_type": "code",
   "execution_count": null,
   "id": "b51cd36d",
   "metadata": {},
   "outputs": [],
   "source": []
  },
  {
   "cell_type": "code",
   "execution_count": null,
   "id": "bf4b5168",
   "metadata": {},
   "outputs": [],
   "source": []
  },
  {
   "cell_type": "code",
   "execution_count": null,
   "id": "6188748b",
   "metadata": {},
   "outputs": [],
   "source": []
  },
  {
   "cell_type": "code",
   "execution_count": null,
   "id": "f6e2d757",
   "metadata": {},
   "outputs": [],
   "source": []
  },
  {
   "cell_type": "code",
   "execution_count": null,
   "id": "b63900b8",
   "metadata": {},
   "outputs": [],
   "source": []
  },
  {
   "cell_type": "code",
   "execution_count": null,
   "id": "e73ac11e",
   "metadata": {},
   "outputs": [],
   "source": []
  },
  {
   "cell_type": "code",
   "execution_count": null,
   "id": "268e530e",
   "metadata": {},
   "outputs": [],
   "source": []
  },
  {
   "cell_type": "code",
   "execution_count": null,
   "id": "ee88da05",
   "metadata": {},
   "outputs": [],
   "source": []
  },
  {
   "cell_type": "code",
   "execution_count": null,
   "id": "02828be2",
   "metadata": {},
   "outputs": [],
   "source": []
  },
  {
   "cell_type": "code",
   "execution_count": null,
   "id": "23f8412b",
   "metadata": {},
   "outputs": [],
   "source": []
  },
  {
   "cell_type": "code",
   "execution_count": null,
   "id": "35643fa2",
   "metadata": {},
   "outputs": [],
   "source": []
  },
  {
   "cell_type": "code",
   "execution_count": null,
   "id": "5842bae2",
   "metadata": {},
   "outputs": [],
   "source": []
  },
  {
   "cell_type": "code",
   "execution_count": null,
   "id": "2cc679f9",
   "metadata": {},
   "outputs": [],
   "source": []
  },
  {
   "cell_type": "code",
   "execution_count": null,
   "id": "21dce35c",
   "metadata": {},
   "outputs": [],
   "source": []
  },
  {
   "cell_type": "code",
   "execution_count": null,
   "id": "2f394bd9",
   "metadata": {},
   "outputs": [],
   "source": []
  },
  {
   "cell_type": "code",
   "execution_count": null,
   "id": "4f388ad9",
   "metadata": {},
   "outputs": [],
   "source": []
  },
  {
   "cell_type": "code",
   "execution_count": null,
   "id": "2223030d",
   "metadata": {},
   "outputs": [],
   "source": []
  },
  {
   "cell_type": "code",
   "execution_count": null,
   "id": "ef2cab6e",
   "metadata": {},
   "outputs": [],
   "source": []
  },
  {
   "cell_type": "code",
   "execution_count": null,
   "id": "de644400",
   "metadata": {},
   "outputs": [],
   "source": []
  }
 ],
 "metadata": {
  "kernelspec": {
   "display_name": "Python 3",
   "language": "python",
   "name": "python3"
  },
  "language_info": {
   "codemirror_mode": {
    "name": "ipython",
    "version": 3
   },
   "file_extension": ".py",
   "mimetype": "text/x-python",
   "name": "python",
   "nbconvert_exporter": "python",
   "pygments_lexer": "ipython3",
   "version": "3.13.0"
  }
 },
 "nbformat": 4,
 "nbformat_minor": 5
}

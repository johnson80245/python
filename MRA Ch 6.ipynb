{
 "cells": [
  {
   "cell_type": "code",
   "execution_count": 18,
   "id": "d1f937e2",
   "metadata": {},
   "outputs": [],
   "source": [
    "import numpy as np\n",
    "import pandas as pd \n",
    "import matplotlib.pyplot as plt\n",
    "import seaborn as sns\n",
    "\n",
    "seg_df = pd.read_csv('http://bit.ly/PMR-ch5')\n",
    "\n"
   ]
  },
  {
   "cell_type": "code",
   "execution_count": 21,
   "id": "f8371592",
   "metadata": {},
   "outputs": [
    {
     "name": "stdout",
     "output_type": "stream",
     "text": [
      "[25 25 25 10]\n",
      "Power_divergenceResult(statistic=7.9411764705882355, pvalue=0.047243183430928606)\n",
      "Expected values: [21.25 21.25 21.25 21.25]\n",
      "[5. 5. 5. 2.]\n",
      "Power_divergenceResult(statistic=1.5882352941176472, pvalue=0.6620603202525777)\n",
      "Expected values: [4.25 4.25 4.25 4.25]\n",
      "[2150 2150 2150 2000]\n",
      "Power_divergenceResult(statistic=7.988165680473372, pvalue=0.04625691960442831)\n",
      "Expected values: [2112.5 2112.5 2112.5 2112.5]\n",
      "[ 70 100  80  50]\n"
     ]
    },
    {
     "data": {
      "text/plain": [
       "Power_divergenceResult(statistic=17.333333333333336, pvalue=0.0006034948344733137)"
      ]
     },
     "execution_count": 21,
     "metadata": {},
     "output_type": "execute_result"
    }
   ],
   "source": [
    "#Create test data for observations to look at frequency and chisquare\n",
    "tmp = np.repeat(range(4),[25,25,25,20])\n",
    "tmp\n",
    "\n",
    "#Use nunique to get count of each value\n",
    "tmp_values, tmp_counts = np.unique(tmp,return_counts = True)\n",
    "tmp_counts\n",
    "\n",
    "#Import scipy and stats\n",
    "from scipy import stats\n",
    "stats.chisquare(tmp_counts)\n",
    "#Shows 85% chance of seeing a dataset with differences similar to ours\n",
    "\n",
    "#changing observations to see a different number\n",
    "tmp_values, tmp_counts = np.unique(np.repeat(range(4),[25,25,25,10]),\n",
    "                                   return_counts = True)\n",
    "print(tmp_counts)\n",
    "print(stats.chisquare(tmp_counts))\n",
    "print('Expected values: {}'.format(np.ones(4)*tmp_counts.sum()/4))\n",
    "\n",
    "#Same data but 1/5 to see difference\n",
    "tmp_counts_small = tmp_counts / 5\n",
    "print(tmp_counts_small)\n",
    "print(stats.chisquare(tmp_counts_small))\n",
    "print('Expected values: {}'.format(np.ones(4)*tmp_counts_small.sum()/4))\n",
    "\n",
    "#Looking at high differences\n",
    "tmp_counts_large = tmp_counts * 10 + 1900\n",
    "print(tmp_counts_large)\n",
    "print(stats.chisquare(tmp_counts_large))\n",
    "print('Expected values: {}'.format(np.ones(4)*tmp_counts_large.sum()/4))\n",
    "\n",
    "\n",
    "#Looking at our segment data and chisquare - are they sig different? - Yes\n",
    "segment_values, segment_counts = np.unique(seg_df.Segment,\n",
    "                                           return_counts = True)\n",
    "print(segment_counts)\n",
    "stats.chisquare(segment_counts)\n",
    "\n",
    "#Using the value_counts() to look at segment counts\n",
    "seg_df.Segment.value_counts()\n",
    "\n",
    "#value_counts can be passed directly to chisquare\n",
    "stats.chisquare(seg_df.Segment.value_counts())"
   ]
  },
  {
   "cell_type": "code",
   "execution_count": null,
   "id": "f46ebe67",
   "metadata": {},
   "outputs": [],
   "source": []
  },
  {
   "cell_type": "code",
   "execution_count": null,
   "id": "ce0fbd52",
   "metadata": {},
   "outputs": [],
   "source": []
  },
  {
   "cell_type": "code",
   "execution_count": null,
   "id": "ffaf7c31",
   "metadata": {},
   "outputs": [],
   "source": []
  },
  {
   "cell_type": "code",
   "execution_count": null,
   "id": "b51cd36d",
   "metadata": {},
   "outputs": [],
   "source": []
  },
  {
   "cell_type": "code",
   "execution_count": null,
   "id": "bf4b5168",
   "metadata": {},
   "outputs": [],
   "source": []
  },
  {
   "cell_type": "code",
   "execution_count": null,
   "id": "6188748b",
   "metadata": {},
   "outputs": [],
   "source": []
  },
  {
   "cell_type": "code",
   "execution_count": null,
   "id": "f6e2d757",
   "metadata": {},
   "outputs": [],
   "source": []
  },
  {
   "cell_type": "code",
   "execution_count": null,
   "id": "b63900b8",
   "metadata": {},
   "outputs": [],
   "source": []
  },
  {
   "cell_type": "code",
   "execution_count": null,
   "id": "e73ac11e",
   "metadata": {},
   "outputs": [],
   "source": []
  },
  {
   "cell_type": "code",
   "execution_count": null,
   "id": "268e530e",
   "metadata": {},
   "outputs": [],
   "source": []
  },
  {
   "cell_type": "code",
   "execution_count": null,
   "id": "ee88da05",
   "metadata": {},
   "outputs": [],
   "source": []
  },
  {
   "cell_type": "code",
   "execution_count": null,
   "id": "02828be2",
   "metadata": {},
   "outputs": [],
   "source": []
  },
  {
   "cell_type": "code",
   "execution_count": null,
   "id": "23f8412b",
   "metadata": {},
   "outputs": [],
   "source": []
  },
  {
   "cell_type": "code",
   "execution_count": null,
   "id": "35643fa2",
   "metadata": {},
   "outputs": [],
   "source": []
  },
  {
   "cell_type": "code",
   "execution_count": null,
   "id": "5842bae2",
   "metadata": {},
   "outputs": [],
   "source": []
  },
  {
   "cell_type": "code",
   "execution_count": null,
   "id": "2cc679f9",
   "metadata": {},
   "outputs": [],
   "source": []
  },
  {
   "cell_type": "code",
   "execution_count": null,
   "id": "21dce35c",
   "metadata": {},
   "outputs": [],
   "source": []
  },
  {
   "cell_type": "code",
   "execution_count": null,
   "id": "2f394bd9",
   "metadata": {},
   "outputs": [],
   "source": []
  },
  {
   "cell_type": "code",
   "execution_count": null,
   "id": "4f388ad9",
   "metadata": {},
   "outputs": [],
   "source": []
  },
  {
   "cell_type": "code",
   "execution_count": null,
   "id": "2223030d",
   "metadata": {},
   "outputs": [],
   "source": []
  },
  {
   "cell_type": "code",
   "execution_count": null,
   "id": "ef2cab6e",
   "metadata": {},
   "outputs": [],
   "source": []
  },
  {
   "cell_type": "code",
   "execution_count": null,
   "id": "de644400",
   "metadata": {},
   "outputs": [],
   "source": []
  }
 ],
 "metadata": {
  "kernelspec": {
   "display_name": "base",
   "language": "python",
   "name": "python3"
  },
  "language_info": {
   "codemirror_mode": {
    "name": "ipython",
    "version": 3
   },
   "file_extension": ".py",
   "mimetype": "text/x-python",
   "name": "python",
   "nbconvert_exporter": "python",
   "pygments_lexer": "ipython3",
   "version": "3.12.2"
  }
 },
 "nbformat": 4,
 "nbformat_minor": 5
}

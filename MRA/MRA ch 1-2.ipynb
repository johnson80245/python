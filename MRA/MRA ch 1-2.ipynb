{
 "cells": [
  {
   "cell_type": "code",
   "execution_count": 1,
   "id": "ef80bcfd",
   "metadata": {},
   "outputs": [
    {
     "data": {
      "text/html": [
       "<div>\n",
       "<style scoped>\n",
       "    .dataframe tbody tr th:only-of-type {\n",
       "        vertical-align: middle;\n",
       "    }\n",
       "\n",
       "    .dataframe tbody tr th {\n",
       "        vertical-align: top;\n",
       "    }\n",
       "\n",
       "    .dataframe thead th {\n",
       "        text-align: right;\n",
       "    }\n",
       "</style>\n",
       "<table border=\"1\" class=\"dataframe\">\n",
       "  <thead>\n",
       "    <tr style=\"text-align: right;\">\n",
       "      <th></th>\n",
       "      <th>iProdSAT</th>\n",
       "      <th>iSalesSAT</th>\n",
       "      <th>Segment</th>\n",
       "      <th>iProdREC</th>\n",
       "      <th>iSalesREC</th>\n",
       "    </tr>\n",
       "  </thead>\n",
       "  <tbody>\n",
       "    <tr>\n",
       "      <th>0</th>\n",
       "      <td>6</td>\n",
       "      <td>2</td>\n",
       "      <td>1</td>\n",
       "      <td>4</td>\n",
       "      <td>3</td>\n",
       "    </tr>\n",
       "    <tr>\n",
       "      <th>1</th>\n",
       "      <td>4</td>\n",
       "      <td>5</td>\n",
       "      <td>3</td>\n",
       "      <td>4</td>\n",
       "      <td>4</td>\n",
       "    </tr>\n",
       "    <tr>\n",
       "      <th>2</th>\n",
       "      <td>5</td>\n",
       "      <td>3</td>\n",
       "      <td>4</td>\n",
       "      <td>5</td>\n",
       "      <td>4</td>\n",
       "    </tr>\n",
       "    <tr>\n",
       "      <th>3</th>\n",
       "      <td>3</td>\n",
       "      <td>3</td>\n",
       "      <td>2</td>\n",
       "      <td>4</td>\n",
       "      <td>4</td>\n",
       "    </tr>\n",
       "    <tr>\n",
       "      <th>4</th>\n",
       "      <td>3</td>\n",
       "      <td>3</td>\n",
       "      <td>3</td>\n",
       "      <td>2</td>\n",
       "      <td>2</td>\n",
       "    </tr>\n",
       "  </tbody>\n",
       "</table>\n",
       "</div>"
      ],
      "text/plain": [
       "   iProdSAT  iSalesSAT Segment  iProdREC  iSalesREC\n",
       "0         6          2       1         4          3\n",
       "1         4          5       3         4          4\n",
       "2         5          3       4         5          4\n",
       "3         3          3       2         4          4\n",
       "4         3          3       3         2          2"
      ]
     },
     "execution_count": 1,
     "metadata": {},
     "output_type": "execute_result"
    }
   ],
   "source": [
    "#pip install numpy pandas seaborn matplotlib ipython scipy statsmodels scikit-learn yellowbrick\n",
    "\n",
    "import pandas as pd\n",
    "\n",
    "sat_df = pd.read_csv('http://bit.ly/PMR-ch2')\n",
    "sat_df.Segment = sat_df.Segment.astype(pd.api.types.CategoricalDtype())\n",
    "sat_df.head()"
   ]
  },
  {
   "cell_type": "code",
   "execution_count": 2,
   "id": "24c376ac",
   "metadata": {},
   "outputs": [
    {
     "data": {
      "text/html": [
       "<div>\n",
       "<style scoped>\n",
       "    .dataframe tbody tr th:only-of-type {\n",
       "        vertical-align: middle;\n",
       "    }\n",
       "\n",
       "    .dataframe tbody tr th {\n",
       "        vertical-align: top;\n",
       "    }\n",
       "\n",
       "    .dataframe thead th {\n",
       "        text-align: right;\n",
       "    }\n",
       "</style>\n",
       "<table border=\"1\" class=\"dataframe\">\n",
       "  <thead>\n",
       "    <tr style=\"text-align: right;\">\n",
       "      <th></th>\n",
       "      <th>iProdSAT</th>\n",
       "      <th>iSalesSAT</th>\n",
       "      <th>iProdREC</th>\n",
       "      <th>iSalesREC</th>\n",
       "    </tr>\n",
       "  </thead>\n",
       "  <tbody>\n",
       "    <tr>\n",
       "      <th>count</th>\n",
       "      <td>500.000000</td>\n",
       "      <td>500.000000</td>\n",
       "      <td>500.000000</td>\n",
       "      <td>500.000000</td>\n",
       "    </tr>\n",
       "    <tr>\n",
       "      <th>mean</th>\n",
       "      <td>4.130000</td>\n",
       "      <td>3.802000</td>\n",
       "      <td>4.044000</td>\n",
       "      <td>3.444000</td>\n",
       "    </tr>\n",
       "    <tr>\n",
       "      <th>std</th>\n",
       "      <td>1.091551</td>\n",
       "      <td>1.159951</td>\n",
       "      <td>1.299786</td>\n",
       "      <td>1.205724</td>\n",
       "    </tr>\n",
       "    <tr>\n",
       "      <th>min</th>\n",
       "      <td>1.000000</td>\n",
       "      <td>1.000000</td>\n",
       "      <td>1.000000</td>\n",
       "      <td>1.000000</td>\n",
       "    </tr>\n",
       "    <tr>\n",
       "      <th>25%</th>\n",
       "      <td>3.000000</td>\n",
       "      <td>3.000000</td>\n",
       "      <td>3.000000</td>\n",
       "      <td>3.000000</td>\n",
       "    </tr>\n",
       "    <tr>\n",
       "      <th>50%</th>\n",
       "      <td>4.000000</td>\n",
       "      <td>4.000000</td>\n",
       "      <td>4.000000</td>\n",
       "      <td>3.000000</td>\n",
       "    </tr>\n",
       "    <tr>\n",
       "      <th>75%</th>\n",
       "      <td>5.000000</td>\n",
       "      <td>5.000000</td>\n",
       "      <td>5.000000</td>\n",
       "      <td>4.000000</td>\n",
       "    </tr>\n",
       "    <tr>\n",
       "      <th>max</th>\n",
       "      <td>7.000000</td>\n",
       "      <td>7.000000</td>\n",
       "      <td>7.000000</td>\n",
       "      <td>7.000000</td>\n",
       "    </tr>\n",
       "  </tbody>\n",
       "</table>\n",
       "</div>"
      ],
      "text/plain": [
       "         iProdSAT   iSalesSAT    iProdREC   iSalesREC\n",
       "count  500.000000  500.000000  500.000000  500.000000\n",
       "mean     4.130000    3.802000    4.044000    3.444000\n",
       "std      1.091551    1.159951    1.299786    1.205724\n",
       "min      1.000000    1.000000    1.000000    1.000000\n",
       "25%      3.000000    3.000000    3.000000    3.000000\n",
       "50%      4.000000    4.000000    4.000000    3.000000\n",
       "75%      5.000000    5.000000    5.000000    4.000000\n",
       "max      7.000000    7.000000    7.000000    7.000000"
      ]
     },
     "execution_count": 2,
     "metadata": {},
     "output_type": "execute_result"
    }
   ],
   "source": [
    "sat_df.describe()"
   ]
  },
  {
   "cell_type": "code",
   "execution_count": 3,
   "id": "c8542b48",
   "metadata": {},
   "outputs": [
    {
     "data": {
      "text/plain": [
       "<Axes: >"
      ]
     },
     "execution_count": 3,
     "metadata": {},
     "output_type": "execute_result"
    },
    {
     "data": {
      "image/png": "[encoded data removed]",
      "text/plain": [
       "<Figure size 640x480 with 2 Axes>"
      ]
     },
     "metadata": {},
     "output_type": "display_data"
    }
   ],
   "source": [
    "import seaborn as sns\n",
    "sns.heatmap(sat_df.corr())"
   ]
  },
  {
   "cell_type": "code",
   "execution_count": 4,
   "id": "36f1ecbe",
   "metadata": {},
   "outputs": [
    {
     "name": "stderr",
     "output_type": "stream",
     "text": [
      "C:\\Users\\Kyle\\AppData\\Local\\Temp\\ipykernel_29496\\3643269119.py:2: FutureWarning: The default of observed=False is deprecated and will be changed to True in a future version of pandas. Pass observed=False to retain current behavior or observed=True to adopt the future default and silence this warning.\n",
      "  sat_df.groupby('Segment').iProdSAT.mean()\n"
     ]
    },
    {
     "data": {
      "text/plain": [
       "Segment\n",
       "1    3.462963\n",
       "2    3.725191\n",
       "3    4.103896\n",
       "4    4.708075\n",
       "Name: iProdSAT, dtype: float64"
      ]
     },
     "execution_count": 4,
     "metadata": {},
     "output_type": "execute_result"
    }
   ],
   "source": [
    "#Does product Satisfaction differ by segment\n",
    "sat_df.groupby('Segment').iProdSAT.mean()"
   ]
  },
  {
   "cell_type": "code",
   "execution_count": 5,
   "id": "5416c2a7",
   "metadata": {},
   "outputs": [
    {
     "data": {
      "text/html": [
       "<div>\n",
       "<style scoped>\n",
       "    .dataframe tbody tr th:only-of-type {\n",
       "        vertical-align: middle;\n",
       "    }\n",
       "\n",
       "    .dataframe tbody tr th {\n",
       "        vertical-align: top;\n",
       "    }\n",
       "\n",
       "    .dataframe thead th {\n",
       "        text-align: right;\n",
       "    }\n",
       "</style>\n",
       "<table border=\"1\" class=\"dataframe\">\n",
       "  <thead>\n",
       "    <tr style=\"text-align: right;\">\n",
       "      <th></th>\n",
       "      <th>df</th>\n",
       "      <th>sum_sq</th>\n",
       "      <th>mean_sq</th>\n",
       "      <th>F</th>\n",
       "      <th>PR(&gt;F)</th>\n",
       "    </tr>\n",
       "  </thead>\n",
       "  <tbody>\n",
       "    <tr>\n",
       "      <th>Segment</th>\n",
       "      <td>4.0</td>\n",
       "      <td>8627.850038</td>\n",
       "      <td>2156.962510</td>\n",
       "      <td>2160.66543</td>\n",
       "      <td>3.569726e-312</td>\n",
       "    </tr>\n",
       "    <tr>\n",
       "      <th>Residual</th>\n",
       "      <td>496.0</td>\n",
       "      <td>495.149962</td>\n",
       "      <td>0.998286</td>\n",
       "      <td>NaN</td>\n",
       "      <td>NaN</td>\n",
       "    </tr>\n",
       "  </tbody>\n",
       "</table>\n",
       "</div>"
      ],
      "text/plain": [
       "             df       sum_sq      mean_sq           F         PR(>F)\n",
       "Segment     4.0  8627.850038  2156.962510  2160.66543  3.569726e-312\n",
       "Residual  496.0   495.149962     0.998286         NaN            NaN"
      ]
     },
     "execution_count": 5,
     "metadata": {},
     "output_type": "execute_result"
    }
   ],
   "source": [
    "import statsmodels.formula.api as smf\n",
    "from statsmodels.stats import anova as sms_anova\n",
    "\n",
    "segment_psat_lm = smf.ols('iProdSAT ~ -1 + Segment',\n",
    "                          data = sat_df).fit()\n",
    "\n",
    "sms_anova.anova_lm(segment_psat_lm)"
   ]
  },
  {
   "cell_type": "code",
   "execution_count": 6,
   "id": "43c46013",
   "metadata": {},
   "outputs": [
    {
     "data": {
      "text/plain": [
       "<ErrorbarContainer object of 3 artists>"
      ]
     },
     "execution_count": 6,
     "metadata": {},
     "output_type": "execute_result"
    },
    {
     "data": {
      "image/png": "[encoded data removed]",
      "text/plain": [
       "<Figure size 640x480 with 1 Axes>"
      ]
     },
     "metadata": {},
     "output_type": "display_data"
    }
   ],
   "source": [
    "#Visualize confidence interval for mean product satisfaction by segment\n",
    "import matplotlib.pyplot as plt\n",
    "plt.errorbar(y = segment_psat_lm.params.index,\n",
    "             x = segment_psat_lm.params.values,\n",
    "             xerr = segment_psat_lm.conf_int()[1].T\n",
    "                - segment_psat_lm.params,\n",
    "                fmt = 'ko')"
   ]
  },
  {
   "cell_type": "code",
   "execution_count": 7,
   "id": "cfbbbf44",
   "metadata": {},
   "outputs": [
    {
     "name": "stdout",
     "output_type": "stream",
     "text": [
      "[1, 23, 6]\n"
     ]
    }
   ],
   "source": [
    "# 2.2 Basics of Working With Python Commands\n",
    "# Initialize a list\n",
    "x = [1,23,6] \n",
    "print(x)"
   ]
  },
  {
   "cell_type": "code",
   "execution_count": 8,
   "id": "3393e7fe",
   "metadata": {},
   "outputs": [
    {
     "name": "stdout",
     "output_type": "stream",
     "text": [
      "True\n",
      "True\n",
      "False\n",
      "True\n",
      "False\n",
      "True\n"
     ]
    }
   ],
   "source": [
    "#2.4.2 Booleans\n",
    "print(1 == 1)\n",
    "print(1 < 2)\n",
    "print(1 == 2)\n",
    "\n",
    "x = True\n",
    "y = False\n",
    "print(x or y)\n",
    "print(x and y)\n",
    "print(x and not y)"
   ]
  },
  {
   "cell_type": "code",
   "execution_count": 9,
   "id": "64461ba9",
   "metadata": {},
   "outputs": [
    {
     "name": "stdout",
     "output_type": "stream",
     "text": [
      "6\n",
      "0.5\n",
      "16\n"
     ]
    },
    {
     "data": {
      "text/plain": [
       "float"
      ]
     },
     "execution_count": 9,
     "metadata": {},
     "output_type": "execute_result"
    }
   ],
   "source": [
    "#2.4.3 Numeric Types\n",
    "x = 2\n",
    "y = 4\n",
    "print(x + y)\n",
    "\n",
    "w = x/y\n",
    "print(w)\n",
    "\n",
    "print(x ** y) #exponent\n",
    "\n",
    "z = 3.2\n",
    "type(x * z)\n"
   ]
  },
  {
   "cell_type": "code",
   "execution_count": 10,
   "id": "8ab1d69e",
   "metadata": {},
   "outputs": [
    {
     "name": "stdout",
     "output_type": "stream",
     "text": [
      "[0, 1, 2, 3, 4, 5, 'a', 'b', 'c']\n",
      "[0, 1, 2, 3, 4, 5, 'r']\n",
      "7\n"
     ]
    }
   ],
   "source": [
    "# 2.4.4 Sequence Types\n",
    "# Lists - ordered, mutable sequences of objects.\n",
    "x = [0,1,2,3,4,5]\n",
    "y = ['a','b','c']\n",
    "print(x + y)\n",
    "\n",
    "x.append('r')\n",
    "print(x)\n",
    "\n",
    "print(len(x))\n",
    "\n",
    "\n"
   ]
  },
  {
   "cell_type": "code",
   "execution_count": 11,
   "id": "8cc4a1de",
   "metadata": {},
   "outputs": [
    {
     "name": "stdout",
     "output_type": "stream",
     "text": [
      "1\n",
      "[2, 3]\n",
      "[0, 1]\n",
      "[1, 2, 3, 4, 5, 'r']\n",
      "[5, 'r']\n"
     ]
    }
   ],
   "source": [
    "#Indexing\n",
    "print(x[1]) # returns the second value\n",
    "print(x[2:4]) # returns a range\n",
    "print(x[:2]) # returns the start of index to number 2\n",
    "print(x[1:]) # returns from the second value to end of list\n",
    "print(x[-2:]) # returns the last two realtive to the end of the list\n",
    "x[2] = 'freeze' #changing the value of 2 to freeze in the list"
   ]
  },
  {
   "cell_type": "code",
   "execution_count": 12,
   "id": "28f6eafe",
   "metadata": {},
   "outputs": [
    {
     "name": "stdout",
     "output_type": "stream",
     "text": [
      "8\n"
     ]
    }
   ],
   "source": [
    "# Tuples - similar to list BUT immutable\n",
    "z = (7,8,9)\n",
    "print(z[1])\n",
    "# z[1] = 'boil' # returns an error - tuple doesn't support item assignment"
   ]
  },
  {
   "cell_type": "code",
   "execution_count": 13,
   "id": "d0850b42",
   "metadata": {},
   "outputs": [
    {
     "name": "stdout",
     "output_type": "stream",
     "text": [
      "range(0, 10)\n",
      "[0, 1, 2, 3, 4, 5, 6, 7, 8, 9]\n",
      "[2, 3, 4, 5, 6, 7, 8, 9, 10, 11]\n"
     ]
    }
   ],
   "source": [
    "# Ranges - Immutable sequences of numbers mostly used for loops\n",
    "\n",
    "print(range(10))\n",
    "print(list(range(10))) # returns a list of the range to view content\n",
    "print(list(range(2,12))) # start and stop specified"
   ]
  },
  {
   "cell_type": "code",
   "execution_count": 14,
   "id": "24beac7f",
   "metadata": {},
   "outputs": [
    {
     "name": "stdout",
     "output_type": "stream",
     "text": [
      "HelloWorld\n",
      "lo\n",
      "HELLO\n",
      "Help\n",
      "Hello, World, what a day!\n",
      "['Hello', ' World', ' what a day!']\n",
      "The temperature today is 21.34 degrees\n",
      "18.93 divided by 345.234 equals 0.05483237456333965\n",
      "18.93 plus 18.93 plus 345.234 equals 383.094\n"
     ]
    }
   ],
   "source": [
    "# Text Type: string\n",
    "x = 'Hello'\n",
    "y = 'World'\n",
    "print(x + y)\n",
    "print(x[3:])\n",
    "print(x.upper())\n",
    "print(x.replace('lo','p'))\n",
    "print(', '.join([x,y,'what a day!']))\n",
    "print('Hello, World, what a day!'.split(','))\n",
    "\n",
    "#Format\n",
    "temperature = 21.34\n",
    "print('The temperature today is {} degrees'.format(temperature))\n",
    "x = 18.93\n",
    "y = 345.234\n",
    "print('{} divided by {} equals {}'.format(x,y,x/y))\n",
    "print('{x} plus {x} plus {y} equals {r}'.format(x=x,y=y,r=x + x + y))\n"
   ]
  },
  {
   "cell_type": "code",
   "execution_count": 15,
   "id": "f44d126c",
   "metadata": {},
   "outputs": [
    {
     "name": "stdout",
     "output_type": "stream",
     "text": [
      "{8, 1, 3, 12}\n",
      "True\n",
      "False\n",
      "{8}\n",
      "{9, 2}\n",
      "{1, 2, 3, 8, 9, 12}\n"
     ]
    }
   ],
   "source": [
    "#Sets - Can be used to grab all unique values from a collection of objects such as a list\n",
    "x = [1,1,3,8,12,12]\n",
    "print(set(x))\n",
    "print(3 in x)\n",
    "print(5 in x)\n",
    "x = set([1,1,3,8,12,12])\n",
    "y = set([2,2,8,9])\n",
    "print(x.intersection(y))\n",
    "print(y.difference(x))\n",
    "print(x.union(y))"
   ]
  },
  {
   "cell_type": "code",
   "execution_count": 16,
   "id": "6b07cbaa",
   "metadata": {},
   "outputs": [
    {
     "name": "stdout",
     "output_type": "stream",
     "text": [
      "{'a': 1, 'b': 2, 'c': 3}\n",
      "{'a': 1, 'b': 2, 'c': 3}\n",
      "{1: 'a', 2: 'b', 3: 'c'}\n",
      "1\n",
      "dict_items([(1, 'a'), (2, 'b'), (3, 'c')])\n",
      "dict_keys([1, 2, 3])\n",
      "dict_values(['a', 'b', 'c'])\n"
     ]
    }
   ],
   "source": [
    "# Mapping Type\n",
    "x = dict(a=1,b=2,c=3) # creates a dictionary with dict function\n",
    "print(x)\n",
    "x = {'a':1,'b':2,'c':3} #creates a dictionary with curly brackets\n",
    "print(x)\n",
    "y = {1:'a',2:'b',3:'c'}\n",
    "print(y)\n",
    "print(x['a']) # pulls the return value of a\n",
    "print(y.items()) # key values pulled \n",
    "print(y.keys()) # prints the keys\n",
    "print(y.values()) #prints the values\n"
   ]
  },
  {
   "cell_type": "code",
   "execution_count": 17,
   "id": "ec277970",
   "metadata": {},
   "outputs": [
    {
     "name": "stdout",
     "output_type": "stream",
     "text": [
      "7\n",
      "7\n",
      "3\n",
      "7\n",
      "7\n",
      "3\n",
      "4\n",
      "frogcoyote\n"
     ]
    }
   ],
   "source": [
    "# Fuctions, Classes, and Methods\n",
    "# functions\n",
    "def add(a,b):\n",
    "    return a + b\n",
    "print(add(3,4)) #positionally assign\n",
    "print(add(a=3,b=4)) # passed keyword\n",
    "\n",
    "def add(a, b=0):  # allows B to be optional by setting a value.\n",
    "    return a + b\n",
    "print(add(3))\n",
    "print(add(3,4)) # can overwrite the value assigned if a value is given. \n",
    "\n",
    "# Classes & Methods\n",
    "class Adder:\n",
    "    '''A class that adds its parameters'''\n",
    "    def __init__(self, a, b):\n",
    "        self.x = a\n",
    "        self.y = b\n",
    "\n",
    "    def add(self):\n",
    "        return self.x + self.y\n",
    "\n",
    "\n",
    "adder = Adder(3, 4)\n",
    "print(adder.add())\n",
    "print(adder.x)\n",
    "print(adder.y)\n",
    "\n",
    "adder2 = Adder('frog', 'coyote')\n",
    "print(adder2.add())"
   ]
  },
  {
   "cell_type": "code",
   "execution_count": 18,
   "id": "7df50454",
   "metadata": {},
   "outputs": [
    {
     "name": "stdout",
     "output_type": "stream",
     "text": [
      "7\n",
      "7\n"
     ]
    }
   ],
   "source": [
    "#Modules & Packages\n",
    "import sys\n",
    "sys.path.append('/absolute/path/to/module.py')\n",
    "# !pip install python_marketing_research\n",
    "from python_marketing_research_functions import chapter2\n",
    "print(chapter2.add(3,4))\n",
    "adder = chapter2.Adder(3,4)\n",
    "print(adder.add())"
   ]
  },
  {
   "cell_type": "code",
   "execution_count": 19,
   "id": "8e793382",
   "metadata": {},
   "outputs": [],
   "source": [
    "import matplotlib.pyplot as plt\n",
    "import numpy as np\n",
    "import pandas as pd\n",
    "import seaborn as sns"
   ]
  },
  {
   "cell_type": "code",
   "execution_count": null,
   "id": "4e913ba4",
   "metadata": {},
   "outputs": [
    {
     "name": "stdout",
     "output_type": "stream",
     "text": [
      "x = 5, which is greater than 2\n",
      "Done!\n",
      "Done!\n",
      "x = 0, which is less than or equal to 2\n",
      "x = 0, which is less than 2\n",
      "38 was NOT foundin the values\n",
      "None\n",
      "12 was found in the values\n",
      "None\n"
     ]
    }
   ],
   "source": [
    "#Control Flow Statements\n",
    "# if statements\n",
    "\n",
    "x = 5\n",
    "if x > 2:\n",
    "    print('x = {}, which is greater than 2'.format(x))\n",
    "print('Done!')\n",
    "\n",
    "x = 0\n",
    "if x > 2:\n",
    "    print('x = {}, which is greater than 2'.format(x))\n",
    "print('Done!')\n",
    "\n",
    "x = 0\n",
    "if x > 2:\n",
    "    print('x = {}, which is greater than 2'.format(x))\n",
    "else:\n",
    "    print('x = {}, which is less than or equal to 2'.format(x))\n",
    "\n",
    "\n",
    "x = 0\n",
    "if x > 2:\n",
    "    print('x = {}, which is greater than 2'.format(x))\n",
    "elif x == 2:\n",
    "    print('x = {}, which equals 2!'.format(x))\n",
    "else:\n",
    "    print('x = {}, which is less than 2'.format(x))\n",
    "\n",
    "def check_present(value,values):\n",
    "    if value in values:\n",
    "        print('{} was found in the values'.format(value))\n",
    "    else:\n",
    "        print('{} was NOT found in the values'.format(value))\n",
    "a = set([4,2,5,1,12,33])\n",
    "print(check_present(38,a))\n",
    "print(check_present(12,a))"
   ]
  },
  {
   "cell_type": "code",
   "execution_count": 6,
   "id": "4a2ac7d2",
   "metadata": {},
   "outputs": [
    {
     "name": "stdout",
     "output_type": "stream",
     "text": [
      "0\n",
      "1\n",
      "2\n",
      "3\n",
      "4\n",
      "a_squared generated: [16, 4, 25, 1, 144, 1089]\n"
     ]
    }
   ],
   "source": [
    "# While Loops \n",
    "x = 0\n",
    "while x < 5:\n",
    "    print(x)\n",
    "    x += 1 # iterates through until evaluated false\n",
    "\n",
    "a = [4,2,5,1,12,33]\n",
    "a_squared = []\n",
    "i = 0\n",
    "\n",
    "while i < len(a):\n",
    "    a_squared.append(a[i]**2)\n",
    "    i += 1\n",
    "print('a_squared generated: {}'.format(a_squared))"
   ]
  },
  {
   "cell_type": "code",
   "execution_count": 19,
   "id": "9e2778eb",
   "metadata": {},
   "outputs": [
    {
     "name": "stdout",
     "output_type": "stream",
     "text": [
      "a_squared generated: [16, 4, 25, 1, 144, 1089]\n",
      "0\n",
      "1\n",
      "2\n",
      "3\n",
      "4\n",
      "a_squared generated: [16, 4, 25, 1, 144, 1089]\n",
      "21\n",
      "33\n",
      "45\n",
      "57\n",
      "69\n",
      "81\n",
      "93\n",
      "0 6\n",
      "1 8\n",
      "2 10\n",
      "3 12\n",
      "4 14\n",
      "5 16\n",
      "0 6\n",
      "1 8\n",
      "2 10\n",
      "0 4\n",
      "1 2\n",
      "2 5\n",
      "3 1\n",
      "4 12\n",
      "5 33\n",
      "17 is the largest factor of 34, \n",
      "2.0 times 17 equals 34\n"
     ]
    }
   ],
   "source": [
    "#For Loop\n",
    "a = [4,2,5,1,12,33]\n",
    "a_squared = []\n",
    "\n",
    "for x in a:\n",
    "    a_squared.append(x**2)\n",
    "print('a_squared generated: {}'.format(a_squared))\n",
    "\n",
    "for i in range(5):\n",
    "    print(i)\n",
    "\n",
    "a_squared = []\n",
    "for i in range(len(a)):\n",
    "    a_squared.append(a[i]**2)\n",
    "print('a_squared generated: {}'.format(a_squared))\n",
    "\n",
    "for i in range (21,100,12): # start at 21, go to 100, and count by 12\n",
    "    print(i)\n",
    "\n",
    "for x, y in zip(range(6),range(6,18,2)): # zips together two collection and iterates through a pair of ranges\n",
    "    print(x,y)\n",
    "\n",
    "for j, k in zip(range(6), range(6,12,2)):\n",
    "    print(j,k)\n",
    "\n",
    "for i, x in enumerate(a):\n",
    "    print(i,x)\n",
    "\n",
    "# While statement example\n",
    "x = 34\n",
    "y = x - 1\n",
    "while True:\n",
    "    if x % y == 0:\n",
    "        break\n",
    "    y -= 1\n",
    "print('{y} is the largest factor of {x}, \\n{f2} times {y} equals {x}'.format(y = y, x = x, f2 = x / y))"
   ]
  },
  {
   "cell_type": "code",
   "execution_count": 29,
   "id": "9ad02e79",
   "metadata": {},
   "outputs": [
    {
     "name": "stdout",
     "output_type": "stream",
     "text": [
      "[5, 3, 6, 2, 13, 34]\n",
      "[5, 3, 6, 2]\n",
      "[5, 3, 6, 2, 1200, 3300]\n",
      "[(4, 16), (2, 4), (5, 25), (1, 1), (12, 144), (33, 1089)]\n",
      "[4.0, 2.0, 5.0, 1.0, 12.0, 33.0]\n",
      "{4: 16, 2: 4, 5: 25, 1: 1, 12: 144, 33: 1089}\n"
     ]
    }
   ],
   "source": [
    "#List comprehension\n",
    "a = [4,2,5,1,12,33]\n",
    "a_plus_one = [x + 1 for x in a]\n",
    "print(a_plus_one)\n",
    "\n",
    "\n",
    "a_plus_on_filtered = [ x + 1 for x in a if x < 12] # if statement is acting as a filter\n",
    "print(a_plus_on_filtered)\n",
    "\n",
    "a_modified = [x + 1 if x < 12 else x * 100 for x in a] # if statement before the for requires an else\n",
    "print(a_modified)\n",
    "\n",
    "a_square_tuples = [(v, v ** 2) for v in a] # used to generate a list of tuples\n",
    "print(a_square_tuples)\n",
    "\n",
    "a_reconstructed = [w/v for v,w in a_square_tuples] # iterate through list of tuples\n",
    "print(a_reconstructed)\n",
    "\n",
    "a_square_dict = {v: v**2 for v in a}\n",
    "print(a_square_dict)\n",
    "\n"
   ]
  },
  {
   "cell_type": "code",
   "execution_count": 20,
   "id": "c742ec4d",
   "metadata": {},
   "outputs": [
    {
     "name": "stdout",
     "output_type": "stream",
     "text": [
      "Help on class range in module builtins:\n",
      "\n",
      "class range(object)\n",
      " |  range(stop) -> range object\n",
      " |  range(start, stop[, step]) -> range object\n",
      " |\n",
      " |  Return an object that produces a sequence of integers from start (inclusive)\n",
      " |  to stop (exclusive) by step.  range(i, j) produces i, i+1, i+2, ..., j-1.\n",
      " |  start defaults to 0, and stop is omitted!  range(4) produces 0, 1, 2, 3.\n",
      " |  These are exactly the valid indices for a list of 4 elements.\n",
      " |  When step is given, it specifies the increment (or decrement).\n",
      " |\n",
      " |  Methods defined here:\n",
      " |\n",
      " |  __bool__(self, /)\n",
      " |      True if self else False\n",
      " |\n",
      " |  __contains__(self, key, /)\n",
      " |      Return bool(key in self).\n",
      " |\n",
      " |  __eq__(self, value, /)\n",
      " |      Return self==value.\n",
      " |\n",
      " |  __ge__(self, value, /)\n",
      " |      Return self>=value.\n",
      " |\n",
      " |  __getattribute__(self, name, /)\n",
      " |      Return getattr(self, name).\n",
      " |\n",
      " |  __getitem__(self, key, /)\n",
      " |      Return self[key].\n",
      " |\n",
      " |  __gt__(self, value, /)\n",
      " |      Return self>value.\n",
      " |\n",
      " |  __hash__(self, /)\n",
      " |      Return hash(self).\n",
      " |\n",
      " |  __iter__(self, /)\n",
      " |      Implement iter(self).\n",
      " |\n",
      " |  __le__(self, value, /)\n",
      " |      Return self<=value.\n",
      " |\n",
      " |  __len__(self, /)\n",
      " |      Return len(self).\n",
      " |\n",
      " |  __lt__(self, value, /)\n",
      " |      Return self<value.\n",
      " |\n",
      " |  __ne__(self, value, /)\n",
      " |      Return self!=value.\n",
      " |\n",
      " |  __reduce__(self, /)\n",
      " |      Helper for pickle.\n",
      " |\n",
      " |  __repr__(self, /)\n",
      " |      Return repr(self).\n",
      " |\n",
      " |  __reversed__(self, /)\n",
      " |      Return a reverse iterator.\n",
      " |\n",
      " |  count(self, object, /)\n",
      " |      rangeobject.count(value) -> integer -- return number of occurrences of value\n",
      " |\n",
      " |  index(self, object, /)\n",
      " |      rangeobject.index(value) -> integer -- return index of value.\n",
      " |      Raise ValueError if the value is not present.\n",
      " |\n",
      " |  ----------------------------------------------------------------------\n",
      " |  Static methods defined here:\n",
      " |\n",
      " |  __new__(*args, **kwargs)\n",
      " |      Create and return a new object.  See help(type) for accurate signature.\n",
      " |\n",
      " |  ----------------------------------------------------------------------\n",
      " |  Data descriptors defined here:\n",
      " |\n",
      " |  start\n",
      " |\n",
      " |  step\n",
      " |\n",
      " |  stop\n",
      "\n"
     ]
    }
   ],
   "source": [
    "# Help! Detour\n",
    "help(range)"
   ]
  },
  {
   "cell_type": "code",
   "execution_count": 32,
   "id": "724e9917",
   "metadata": {},
   "outputs": [
    {
     "name": "stdout",
     "output_type": "stream",
     "text": [
      "['1' '3' '4' 'a' 'b']\n",
      "<U21\n"
     ]
    }
   ],
   "source": [
    "#numpy arrays\n",
    "import numpy as np\n",
    "x = np.array([1,3,4,'a','b'])\n",
    "print(x)\n",
    "print(x.dtype)"
   ]
  },
  {
   "cell_type": "code",
   "execution_count": 43,
   "id": "59388261",
   "metadata": {},
   "outputs": [
    {
     "name": "stdout",
     "output_type": "stream",
     "text": [
      "[49, 16, 4, 484, 144]\n",
      "[49, 16, 4, 484, 144]\n",
      "[ 49  16   4 484 144]\n",
      "[ True False False  True False]\n",
      "2\n",
      "0.4\n",
      "[ 7 22]\n",
      "[ 0.20588235  2.          0.22222222 -4.4         0.66666667]\n"
     ]
    }
   ],
   "source": [
    "#vectorized Operations\n",
    "\n",
    "a = [7,4,2,22,-12]\n",
    "a_squared = []\n",
    "\n",
    "for v in a:\n",
    "    a_squared.append(v ** 2)\n",
    "print(a_squared) \n",
    "\n",
    "print([v ** 2 for v in a]) # does the samething as a loop statement\n",
    "\n",
    "x = np.array(a)\n",
    "print(x**2) # even more efficient\n",
    "\n",
    "print(x>5) # Boolean return if the value is greater than 5\n",
    "\n",
    "print((x > 5).sum()) # any value greater than 5 \n",
    "\n",
    "print((x > 5).sum()/len(x)) # proportion of values in x that are greater than 5\n",
    "\n",
    "print(x[x > 5]) # shows the values that are greater than 5\n",
    "\n",
    "y = np.array([34,2,9,-5,-18])\n",
    "print(x / y)"
   ]
  },
  {
   "cell_type": "code",
   "execution_count": null,
   "id": "893938d2",
   "metadata": {},
   "outputs": [
    {
     "data": {
      "text/plain": [
       "array([ 49,  16,   4, 484, 144])"
      ]
     },
     "execution_count": 35,
     "metadata": {},
     "output_type": "execute_result"
    }
   ],
   "source": [
    "# Series"
   ]
  },
  {
   "cell_type": "code",
   "execution_count": null,
   "id": "e76a4d20",
   "metadata": {},
   "outputs": [],
   "source": []
  },
  {
   "cell_type": "code",
   "execution_count": null,
   "id": "98e0482e",
   "metadata": {},
   "outputs": [],
   "source": []
  },
  {
   "cell_type": "code",
   "execution_count": null,
   "id": "68ec4402",
   "metadata": {},
   "outputs": [],
   "source": []
  },
  {
   "cell_type": "code",
   "execution_count": null,
   "id": "dc98f8d9",
   "metadata": {},
   "outputs": [],
   "source": []
  },
  {
   "cell_type": "code",
   "execution_count": null,
   "id": "59bc46af",
   "metadata": {},
   "outputs": [],
   "source": []
  },
  {
   "cell_type": "code",
   "execution_count": null,
   "id": "4f101ef7",
   "metadata": {},
   "outputs": [],
   "source": []
  },
  {
   "cell_type": "code",
   "execution_count": null,
   "id": "736ebad2",
   "metadata": {},
   "outputs": [],
   "source": []
  },
  {
   "cell_type": "code",
   "execution_count": null,
   "id": "7f61f062",
   "metadata": {},
   "outputs": [],
   "source": []
  },
  {
   "cell_type": "code",
   "execution_count": null,
   "id": "981ec647",
   "metadata": {},
   "outputs": [],
   "source": []
  }
 ],
 "metadata": {
  "kernelspec": {
   "display_name": "Python 3",
   "language": "python",
   "name": "python3"
  },
  "language_info": {
   "codemirror_mode": {
    "name": "ipython",
    "version": 3
   },
   "file_extension": ".py",
   "mimetype": "text/x-python",
   "name": "python",
   "nbconvert_exporter": "python",
   "pygments_lexer": "ipython3",
   "version": "3.13.0"
  }
 },
 "nbformat": 4,
 "nbformat_minor": 5
}

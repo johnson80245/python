{
 "cells": [
  {
   "cell_type": "code",
   "execution_count": null,
   "id": "628356e5",
   "metadata": {},
   "outputs": [],
   "source": [
    "import pandas as pd \n",
    "import numpy as np\n",
    "import matplotlib.pyplot as plt\n",
    "import seaborn as sns\n"
   ]
  },
  {
   "cell_type": "code",
   "execution_count": null,
   "id": "580c0349",
   "metadata": {},
   "outputs": [],
   "source": [
    "capacity = pd.read_csv('https://raw.githubusercontent.com/johnson80245/python/refs/heads/main/csvs/theoretical%20capacity%20data%203%20months.csv')\n",
    "all_state_aht = pd.read_csv('https://raw.githubusercontent.com/johnson80245/python/refs/heads/main/csvs/AHT_by_state.csv')\n",
    "def to_clean(val):\n",
    "    return val.strip().lower().replace(\" \",\"_\")\n",
    "\n",
    "capacity = capacity.rename(columns = to_clean)\n",
    "#all_state_aht = all_state_aht.rename(columns = to_clean)"
   ]
  },
  {
   "cell_type": "code",
   "execution_count": null,
   "id": "8d477efd",
   "metadata": {},
   "outputs": [],
   "source": [
    "capacity.info()"
   ]
  },
  {
   "cell_type": "code",
   "execution_count": null,
   "id": "c2a3ea30",
   "metadata": {},
   "outputs": [],
   "source": [
    "#Cast as categorical data\n",
    "capacity[['userid','position','team_lead_id']] = (capacity[['userid','position','team_lead_id']].astype('category'))\n",
    "#Cast to float\n",
    "capacity['adj_total_hours'] = pd.to_numeric(capacity.adj_total_hours, errors = 'coerce')\n",
    "#Cast to date\n",
    "capacity['year_month'] = pd.to_datetime(capacity['year_month'])\n",
    "#Cast to int64\n",
    "int_columns = ['new_policy_count', 'renewal_count', 'endorsement__count','fte','total_filings','flag_count','srt_reassignments',\n",
    "               'filing_admin_changes','srt_total','premium_srt','zero_srt','no_charge_srt','ad_hoc_srts']\n",
    "for column in int_columns:\n",
    "    capacity[column] = capacity[column].astype('int64')\n",
    "\n",
    "\n"
   ]
  },
  {
   "cell_type": "code",
   "execution_count": null,
   "id": "60727b68",
   "metadata": {},
   "outputs": [],
   "source": []
  },
  {
   "cell_type": "code",
   "execution_count": null,
   "id": "6970796d",
   "metadata": {},
   "outputs": [],
   "source": []
  },
  {
   "cell_type": "code",
   "execution_count": null,
   "id": "06cd1e92",
   "metadata": {},
   "outputs": [],
   "source": []
  },
  {
   "cell_type": "code",
   "execution_count": null,
   "id": "9792eb25",
   "metadata": {},
   "outputs": [],
   "source": [
    "#Create AHT based on reported hours\n",
    "capacity['filing_aht']  = (capacity.filing_hours_self / capacity.total_filings) * 60\n",
    "capacity['srt_aht']  = (capacity.srt_hours_self / capacity.srt_total) * 60\n",
    "capacity['flag_aht'] = (capacity['filing_aht'] * 1.25)\n",
    "\n",
    "#Create Utilization\n",
    "capacity['filing_utilization'] = (capacity.filing_hours_self/capacity.total_hours_self) \n",
    "capacity['srt_utilization'] = (capacity.srt_hours_self/capacity.total_hours_self) \n",
    "capacity['total_utilization'] = (capacity.filing_hours_self + capacity.srt_hours_self) / capacity.total_hours_self"
   ]
  },
  {
   "cell_type": "code",
   "execution_count": null,
   "id": "b4d0ef7f",
   "metadata": {},
   "outputs": [],
   "source": []
  },
  {
   "cell_type": "code",
   "execution_count": null,
   "id": "9191e2e7",
   "metadata": {},
   "outputs": [],
   "source": []
  },
  {
   "cell_type": "code",
   "execution_count": null,
   "id": "80c827de",
   "metadata": {},
   "outputs": [],
   "source": []
  },
  {
   "cell_type": "code",
   "execution_count": null,
   "id": "781a762d",
   "metadata": {},
   "outputs": [],
   "source": [
    "all_state_aht.dtypes"
   ]
  },
  {
   "cell_type": "code",
   "execution_count": null,
   "id": "8a2bc34e",
   "metadata": {},
   "outputs": [],
   "source": [
    "# Correct way\n",
    "all_state_aht['transaction_count'] = pd.to_numeric(\n",
    "    all_state_aht['transaction_count'].astype(str).str.replace(',', ''),\n",
    "    errors='coerce'\n",
    ").astype('float64')\n"
   ]
  },
  {
   "cell_type": "code",
   "execution_count": null,
   "id": "dc9b5a22",
   "metadata": {},
   "outputs": [],
   "source": [
    "#Create state weighted aht\n",
    "\n",
    "def compute_weighted_aht(group):\n",
    "    return (\n",
    "        (group['transaction_count'] * group['weighted_aht']).sum()\n",
    "        / group['transaction_count'].sum()\n",
    "    )\n",
    "\n",
    "state_trans_aht = (\n",
    "    all_state_aht\n",
    "    .groupby(['state', 'transaction_type_group'], group_keys=False)\n",
    "    .apply(compute_weighted_aht, include_groups=False)\n",
    "    .reset_index(name='weighted_aht')\n",
    ")\n",
    "\n",
    "state_aht = (\n",
    "    all_state_aht\n",
    "    .groupby('state', group_keys = False)\n",
    "    .apply(compute_weighted_aht, include_groups=False)\n",
    "    .reset_index(name = 'weighted_aht')\n",
    ")\n",
    "\n",
    "filing_perc_all = all_state_aht.groupby(['state', 'submission_type'])['transaction_share'].sum().reset_index()\n",
    "filing_perc_st_group = all_state_aht.groupby(['state','transaction_type_group'])['transaction_share'].sum().reset_index()\n",
    "filing_perc_st_submission = all_state_aht.groupby(['state', 'submission_type'])['transaction_share'].sum().reset_index()\n",
    "filing_perc_submission = all_state_aht.groupby(['submission_type'])['transaction_share'].sum().reset_index()\n",
    "filing_perc_trans_group = all_state_aht.groupby(['transaction_type_group'])['transaction_share'].sum().reset_index()"
   ]
  },
  {
   "cell_type": "code",
   "execution_count": null,
   "id": "0e6dfaab",
   "metadata": {},
   "outputs": [],
   "source": [
    "filing_perc_st_submission.head()\n",
    "\n",
    "\n",
    "\n"
   ]
  }
 ],
 "metadata": {
  "kernelspec": {
   "display_name": "base",
   "language": "python",
   "name": "python3"
  },
  "language_info": {
   "codemirror_mode": {
    "name": "ipython",
    "version": 3
   },
   "file_extension": ".py",
   "mimetype": "text/x-python",
   "name": "python",
   "nbconvert_exporter": "python",
   "pygments_lexer": "ipython3",
   "version": "3.12.2"
  }
 },
 "nbformat": 4,
 "nbformat_minor": 5
}

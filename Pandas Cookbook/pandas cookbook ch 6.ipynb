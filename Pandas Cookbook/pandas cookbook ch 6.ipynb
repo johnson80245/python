{
 "cells": [
  {
   "cell_type": "code",
   "execution_count": null,
   "id": "9a885199",
   "metadata": {},
   "outputs": [],
   "source": [
    "#Selecting Subsets of Data\n",
    "\n",
    "#Load datasets \n",
    "import pandas as pd\n",
    "import numpy as np\n",
    "import matplotlib.pyplot as plt\n",
    "import seaborn as sns\n",
    "\n"
   ]
  }
 ],
 "metadata": {
  "language_info": {
   "name": "python"
  }
 },
 "nbformat": 4,
 "nbformat_minor": 5
}

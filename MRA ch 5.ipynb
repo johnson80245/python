{
 "cells": [
  {
   "cell_type": "code",
   "execution_count": null,
   "id": "250eb99d",
   "metadata": {},
   "outputs": [],
   "source": []
  }
 ],
 "metadata": {
  "language_info": {
   "name": "python"
  }
 },
 "nbformat": 4,
 "nbformat_minor": 5
}

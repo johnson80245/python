{
 "cells": [
  {
   "cell_type": "code",
   "execution_count": null,
   "id": "250eb99d",
   "metadata": {},
   "outputs": [
    {
     "data": {
      "text/plain": [
       "'normal'"
      ]
     },
     "execution_count": 2,
     "metadata": {},
     "output_type": "execute_result"
    }
   ],
   "source": [
    "#Simulating Data\n",
    "\n",
    "segment_variables = ['age','gender','income','kids','own_home','subscribe']\n",
    "segment_variables_distribution = dict(zip(segment_variables,\n",
    "                                          ['normal','binomial',\n",
    "                                          'normal','poisson',\n",
    "                                          'binomial', 'binomial']))\n",
    "#defining the statistics for ea. variable in segment\n",
    "segment_means = {'suburb_mix':[40,0.5,55000,2,0.5,0.1],\n",
    "                 'urban_hip':}"
   ]
  }
 ],
 "metadata": {
  "kernelspec": {
   "display_name": "base",
   "language": "python",
   "name": "python3"
  },
  "language_info": {
   "codemirror_mode": {
    "name": "ipython",
    "version": 3
   },
   "file_extension": ".py",
   "mimetype": "text/x-python",
   "name": "python",
   "nbconvert_exporter": "python",
   "pygments_lexer": "ipython3",
   "version": "3.12.2"
  }
 },
 "nbformat": 4,
 "nbformat_minor": 5
}

{
 "cells": [
  {
   "cell_type": "code",
   "execution_count": null,
   "id": "b2894b56",
   "metadata": {},
   "outputs": [],
   "source": [
    "import pandas as pd\n",
    "import numpy as np \n",
    "\n",
    "movies_raw = pd.read_csv(r\"C:\\Users\\Kyle\\OneDrive\\Desktop\\python\\pandas_data\\movie.csv\") #PC \n",
    "#movies_raw = pd.read_csv('/Users/kylejohnson/Desktop/Python Files/python/Portfolio_Files/pd_cookbook_data/movie.csv') # MAC \n",
    "movies = movies_raw.copy()\n",
    "\n"
   ]
  }
 ],
 "metadata": {
  "language_info": {
   "name": "python"
  }
 },
 "nbformat": 4,
 "nbformat_minor": 5
}

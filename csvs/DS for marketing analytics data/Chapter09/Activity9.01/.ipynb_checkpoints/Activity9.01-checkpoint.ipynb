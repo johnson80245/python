{
 "cells": [
  {
   "cell_type": "code",
   "execution_count": 1,
   "metadata": {},
   "outputs": [
    {
     "name": "stderr",
     "output_type": "stream",
     "text": [
      "/home/hp/anaconda3/lib/python3.7/site-packages/statsmodels/tools/_testing.py:19: FutureWarning: pandas.util.testing is deprecated. Use the functions in the public API at pandas.testing instead.\n",
      "  import pandas.util.testing as tm\n"
     ]
    }
   ],
   "source": [
    "import pandas as pd\n",
    "import numpy as np\n",
    "from sklearn.ensemble import RandomForestClassifier\n",
    "from sklearn.model_selection import train_test_split\n",
    "from sklearn.metrics import classification_report,confusion_matrix,accuracy_score\n",
    "from sklearn import metrics\n",
    "from sklearn.metrics import precision_recall_fscore_support\n",
    "import matplotlib.pyplot as plt\n",
    "import seaborn as sns"
   ]
  },
  {
   "cell_type": "code",
   "execution_count": 2,
   "metadata": {},
   "outputs": [
    {
     "data": {
      "text/html": [
       "<div>\n",
       "<style scoped>\n",
       "    .dataframe tbody tr th:only-of-type {\n",
       "        vertical-align: middle;\n",
       "    }\n",
       "\n",
       "    .dataframe tbody tr th {\n",
       "        vertical-align: top;\n",
       "    }\n",
       "\n",
       "    .dataframe thead th {\n",
       "        text-align: right;\n",
       "    }\n",
       "</style>\n",
       "<table border=\"1\" class=\"dataframe\">\n",
       "  <thead>\n",
       "    <tr style=\"text-align: right;\">\n",
       "      <th></th>\n",
       "      <th>Fresh</th>\n",
       "      <th>Milk</th>\n",
       "      <th>Grocery</th>\n",
       "      <th>Frozen</th>\n",
       "      <th>Detergents_Paper</th>\n",
       "      <th>Delicassen</th>\n",
       "      <th>Channel</th>\n",
       "    </tr>\n",
       "  </thead>\n",
       "  <tbody>\n",
       "    <tr>\n",
       "      <th>0</th>\n",
       "      <td>6623.613537</td>\n",
       "      <td>5513.093240</td>\n",
       "      <td>6019.057354</td>\n",
       "      <td>5669.568008</td>\n",
       "      <td>5898.660607</td>\n",
       "      <td>5179.234947</td>\n",
       "      <td>2</td>\n",
       "    </tr>\n",
       "    <tr>\n",
       "      <th>1</th>\n",
       "      <td>5642.542497</td>\n",
       "      <td>5829.866565</td>\n",
       "      <td>3960.339943</td>\n",
       "      <td>4270.020548</td>\n",
       "      <td>3498.818262</td>\n",
       "      <td>4327.423268</td>\n",
       "      <td>2</td>\n",
       "    </tr>\n",
       "    <tr>\n",
       "      <th>2</th>\n",
       "      <td>5292.078175</td>\n",
       "      <td>6634.370556</td>\n",
       "      <td>4444.335138</td>\n",
       "      <td>4888.286021</td>\n",
       "      <td>3265.391352</td>\n",
       "      <td>4887.560190</td>\n",
       "      <td>2</td>\n",
       "    </tr>\n",
       "    <tr>\n",
       "      <th>3</th>\n",
       "      <td>5595.227928</td>\n",
       "      <td>4754.860698</td>\n",
       "      <td>2977.856511</td>\n",
       "      <td>3462.490957</td>\n",
       "      <td>3609.264559</td>\n",
       "      <td>4268.641413</td>\n",
       "      <td>0</td>\n",
       "    </tr>\n",
       "    <tr>\n",
       "      <th>4</th>\n",
       "      <td>5126.693267</td>\n",
       "      <td>6009.649079</td>\n",
       "      <td>3811.569943</td>\n",
       "      <td>4744.115976</td>\n",
       "      <td>3829.516831</td>\n",
       "      <td>5097.491872</td>\n",
       "      <td>2</td>\n",
       "    </tr>\n",
       "  </tbody>\n",
       "</table>\n",
       "</div>"
      ],
      "text/plain": [
       "         Fresh         Milk      Grocery       Frozen  Detergents_Paper  \\\n",
       "0  6623.613537  5513.093240  6019.057354  5669.568008       5898.660607   \n",
       "1  5642.542497  5829.866565  3960.339943  4270.020548       3498.818262   \n",
       "2  5292.078175  6634.370556  4444.335138  4888.286021       3265.391352   \n",
       "3  5595.227928  4754.860698  2977.856511  3462.490957       3609.264559   \n",
       "4  5126.693267  6009.649079  3811.569943  4744.115976       3829.516831   \n",
       "\n",
       "    Delicassen  Channel  \n",
       "0  5179.234947        2  \n",
       "1  4327.423268        2  \n",
       "2  4887.560190        2  \n",
       "3  4268.641413        0  \n",
       "4  5097.491872        2  "
      ]
     },
     "execution_count": 2,
     "metadata": {},
     "output_type": "execute_result"
    }
   ],
   "source": [
    "data= pd.read_csv(r'MarketingData.csv')\n",
    "data.head(5)"
   ]
  },
  {
   "cell_type": "code",
   "execution_count": 3,
   "metadata": {},
   "outputs": [
    {
     "data": {
      "text/plain": [
       "(20000, 7)"
      ]
     },
     "execution_count": 3,
     "metadata": {},
     "output_type": "execute_result"
    }
   ],
   "source": [
    "data.shape"
   ]
  },
  {
   "cell_type": "code",
   "execution_count": 4,
   "metadata": {},
   "outputs": [
    {
     "data": {
      "text/plain": [
       "False"
      ]
     },
     "execution_count": 4,
     "metadata": {},
     "output_type": "execute_result"
    }
   ],
   "source": [
    "data.isnull().values.any()"
   ]
  },
  {
   "cell_type": "code",
   "execution_count": 5,
   "metadata": {},
   "outputs": [
    {
     "data": {
      "text/html": [
       "<div>\n",
       "<style scoped>\n",
       "    .dataframe tbody tr th:only-of-type {\n",
       "        vertical-align: middle;\n",
       "    }\n",
       "\n",
       "    .dataframe tbody tr th {\n",
       "        vertical-align: top;\n",
       "    }\n",
       "\n",
       "    .dataframe thead th {\n",
       "        text-align: right;\n",
       "    }\n",
       "</style>\n",
       "<table border=\"1\" class=\"dataframe\">\n",
       "  <thead>\n",
       "    <tr style=\"text-align: right;\">\n",
       "      <th></th>\n",
       "      <th>Fresh</th>\n",
       "      <th>Milk</th>\n",
       "      <th>Grocery</th>\n",
       "      <th>Frozen</th>\n",
       "      <th>Detergents_Paper</th>\n",
       "      <th>Delicassen</th>\n",
       "      <th>Channel</th>\n",
       "    </tr>\n",
       "  </thead>\n",
       "  <tbody>\n",
       "    <tr>\n",
       "      <th>count</th>\n",
       "      <td>20000.000000</td>\n",
       "      <td>20000.000000</td>\n",
       "      <td>20000.000000</td>\n",
       "      <td>20000.000000</td>\n",
       "      <td>20000.000000</td>\n",
       "      <td>20000.000000</td>\n",
       "      <td>20000.000000</td>\n",
       "    </tr>\n",
       "    <tr>\n",
       "      <th>mean</th>\n",
       "      <td>5853.350191</td>\n",
       "      <td>5267.873868</td>\n",
       "      <td>4873.362341</td>\n",
       "      <td>4899.477763</td>\n",
       "      <td>4786.331781</td>\n",
       "      <td>5613.672184</td>\n",
       "      <td>1.499350</td>\n",
       "    </tr>\n",
       "    <tr>\n",
       "      <th>std</th>\n",
       "      <td>1128.370297</td>\n",
       "      <td>1177.563192</td>\n",
       "      <td>1265.579790</td>\n",
       "      <td>1220.923393</td>\n",
       "      <td>1154.682284</td>\n",
       "      <td>1343.743103</td>\n",
       "      <td>1.118464</td>\n",
       "    </tr>\n",
       "    <tr>\n",
       "      <th>min</th>\n",
       "      <td>1.000000</td>\n",
       "      <td>1.000000</td>\n",
       "      <td>1.000000</td>\n",
       "      <td>1.000000</td>\n",
       "      <td>1.000000</td>\n",
       "      <td>1.000000</td>\n",
       "      <td>0.000000</td>\n",
       "    </tr>\n",
       "    <tr>\n",
       "      <th>25%</th>\n",
       "      <td>5155.249455</td>\n",
       "      <td>4438.167387</td>\n",
       "      <td>3983.317183</td>\n",
       "      <td>4071.997222</td>\n",
       "      <td>3877.943500</td>\n",
       "      <td>4705.582182</td>\n",
       "      <td>0.000000</td>\n",
       "    </tr>\n",
       "    <tr>\n",
       "      <th>50%</th>\n",
       "      <td>5988.720207</td>\n",
       "      <td>5337.741327</td>\n",
       "      <td>4828.100401</td>\n",
       "      <td>5048.099489</td>\n",
       "      <td>4857.070488</td>\n",
       "      <td>5425.888761</td>\n",
       "      <td>1.000000</td>\n",
       "    </tr>\n",
       "    <tr>\n",
       "      <th>75%</th>\n",
       "      <td>6573.895741</td>\n",
       "      <td>6081.755179</td>\n",
       "      <td>5784.992859</td>\n",
       "      <td>5684.876863</td>\n",
       "      <td>5602.146034</td>\n",
       "      <td>6574.281056</td>\n",
       "      <td>3.000000</td>\n",
       "    </tr>\n",
       "    <tr>\n",
       "      <th>max</th>\n",
       "      <td>10000.000000</td>\n",
       "      <td>10000.000000</td>\n",
       "      <td>10000.000000</td>\n",
       "      <td>10000.000000</td>\n",
       "      <td>10000.000000</td>\n",
       "      <td>10000.000000</td>\n",
       "      <td>3.000000</td>\n",
       "    </tr>\n",
       "  </tbody>\n",
       "</table>\n",
       "</div>"
      ],
      "text/plain": [
       "              Fresh          Milk       Grocery        Frozen  \\\n",
       "count  20000.000000  20000.000000  20000.000000  20000.000000   \n",
       "mean    5853.350191   5267.873868   4873.362341   4899.477763   \n",
       "std     1128.370297   1177.563192   1265.579790   1220.923393   \n",
       "min        1.000000      1.000000      1.000000      1.000000   \n",
       "25%     5155.249455   4438.167387   3983.317183   4071.997222   \n",
       "50%     5988.720207   5337.741327   4828.100401   5048.099489   \n",
       "75%     6573.895741   6081.755179   5784.992859   5684.876863   \n",
       "max    10000.000000  10000.000000  10000.000000  10000.000000   \n",
       "\n",
       "       Detergents_Paper    Delicassen       Channel  \n",
       "count      20000.000000  20000.000000  20000.000000  \n",
       "mean        4786.331781   5613.672184      1.499350  \n",
       "std         1154.682284   1343.743103      1.118464  \n",
       "min            1.000000      1.000000      0.000000  \n",
       "25%         3877.943500   4705.582182      0.000000  \n",
       "50%         4857.070488   5425.888761      1.000000  \n",
       "75%         5602.146034   6574.281056      3.000000  \n",
       "max        10000.000000  10000.000000      3.000000  "
      ]
     },
     "execution_count": 5,
     "metadata": {},
     "output_type": "execute_result"
    }
   ],
   "source": [
    "data.describe()"
   ]
  },
  {
   "cell_type": "code",
   "execution_count": 6,
   "metadata": {},
   "outputs": [
    {
     "data": {
      "text/plain": [
       "0    5007\n",
       "3    5002\n",
       "1    5001\n",
       "2    4990\n",
       "Name: Channel, dtype: int64"
      ]
     },
     "execution_count": 6,
     "metadata": {},
     "output_type": "execute_result"
    }
   ],
   "source": [
    "data['Channel'].value_counts()"
   ]
  },
  {
   "cell_type": "code",
   "execution_count": 7,
   "metadata": {},
   "outputs": [],
   "source": [
    "target = 'Channel'\n",
    "X = data.drop(['Channel'],axis=1)\n",
    "y=data[target]\n"
   ]
  },
  {
   "cell_type": "code",
   "execution_count": 8,
   "metadata": {},
   "outputs": [],
   "source": [
    "X_train, X_test, y_train, y_test = train_test_split(X.values,y,test_size=0.20, random_state=123, stratify=y)"
   ]
  },
  {
   "cell_type": "code",
   "execution_count": 9,
   "metadata": {},
   "outputs": [
    {
     "data": {
      "text/plain": [
       "RandomForestClassifier(min_samples_split=7, n_estimators=20, random_state=0)"
      ]
     },
     "execution_count": 9,
     "metadata": {},
     "output_type": "execute_result"
    }
   ],
   "source": [
    "clf_random = RandomForestClassifier(n_estimators=20, max_depth=None,\n",
    "     min_samples_split=7, random_state=0)\n",
    "clf_random.fit(X_train,y_train)"
   ]
  },
  {
   "cell_type": "code",
   "execution_count": 10,
   "metadata": {},
   "outputs": [],
   "source": [
    "y_pred=clf_random.predict(X_test)"
   ]
  },
  {
   "cell_type": "code",
   "execution_count": 11,
   "metadata": {},
   "outputs": [
    {
     "data": {
      "text/plain": [
       "(0.8910950272506314, 0.8910093250373001, 0.891010381018051, None)"
      ]
     },
     "execution_count": 11,
     "metadata": {},
     "output_type": "execute_result"
    }
   ],
   "source": [
    "precision_recall_fscore_support(y_test, y_pred, average='macro')"
   ]
  },
  {
   "cell_type": "code",
   "execution_count": 12,
   "metadata": {},
   "outputs": [
    {
     "data": {
      "text/plain": [
       "(0.891, 0.891, 0.891, None)"
      ]
     },
     "execution_count": 12,
     "metadata": {},
     "output_type": "execute_result"
    }
   ],
   "source": [
    "precision_recall_fscore_support(y_test, y_pred, average='micro')"
   ]
  },
  {
   "cell_type": "code",
   "execution_count": 13,
   "metadata": {},
   "outputs": [
    {
     "name": "stdout",
     "output_type": "stream",
     "text": [
      "              precision    recall  f1-score   support\n",
      "\n",
      "      Retail       0.90      0.90      0.90      1002\n",
      "    RoadShow       0.87      0.85      0.86      1000\n",
      " SocialMedia       0.93      0.92      0.92       998\n",
      "   Televison       0.87      0.89      0.88      1000\n",
      "\n",
      "    accuracy                           0.89      4000\n",
      "   macro avg       0.89      0.89      0.89      4000\n",
      "weighted avg       0.89      0.89      0.89      4000\n",
      "\n"
     ]
    }
   ],
   "source": [
    "target_names = [\"Retail\",\"RoadShow\",\"SocialMedia\",\"Televison\"]\n",
    "print(classification_report(y_test, y_pred,target_names=target_names))\n"
   ]
  },
  {
   "cell_type": "code",
   "execution_count": 14,
   "metadata": {},
   "outputs": [],
   "source": [
    "cm = confusion_matrix(y_test, y_pred) "
   ]
  },
  {
   "cell_type": "code",
   "execution_count": 15,
   "metadata": {},
   "outputs": [
    {
     "data": {
      "image/png": "[encoded data removed]",
      "text/plain": [
       "<Figure size 576x432 with 2 Axes>"
      ]
     },
     "metadata": {
      "needs_background": "light"
     },
     "output_type": "display_data"
    }
   ],
   "source": [
    "cm_df = pd.DataFrame(cm,\n",
    "                     index = target_names, \n",
    "                     columns = target_names)\n",
    "plt.figure(figsize=(8,6))\n",
    "sns.heatmap(cm_df, annot=True,fmt='g',cmap='Greys_r')\n",
    "plt.title('Random Forest \\nAccuracy:{0:.3f}'.format(accuracy_score(y_test, y_pred)))\n",
    "plt.ylabel('True Values')\n",
    "plt.xlabel('Predicted Values')\n",
    "plt.show()\n"
   ]
  }
 ],
 "metadata": {
  "kernelspec": {
   "display_name": "Python 3",
   "language": "python",
   "name": "python3"
  },
  "language_info": {
   "codemirror_mode": {
    "name": "ipython",
    "version": 3
   },
   "file_extension": ".py",
   "mimetype": "text/x-python",
   "name": "python",
   "nbconvert_exporter": "python",
   "pygments_lexer": "ipython3",
   "version": "3.7.1"
  }
 },
 "nbformat": 4,
 "nbformat_minor": 2
}

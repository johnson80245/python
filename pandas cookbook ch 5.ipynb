{
 "cells": [
  {
   "cell_type": "code",
   "execution_count": null,
   "id": "3015358d",
   "metadata": {},
   "outputs": [],
   "source": [
    "#Exploratory Data Analysis\n"
   ]
  }
 ],
 "metadata": {
  "language_info": {
   "name": "python"
  }
 },
 "nbformat": 4,
 "nbformat_minor": 5
}
